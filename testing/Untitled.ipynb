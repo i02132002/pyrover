{
 "cells": [
  {
   "cell_type": "code",
   "execution_count": null,
   "metadata": {},
   "outputs": [],
   "source": [
    "from time import sleep\n",
    "import RPi.GPIO as GPIO\n",
    "GPIO.setmode(GPIO.BCM)\n",
    "GPIO.setwarnings(False)\n",
    "\n",
    "def setServoAngle(servo, angle):\n",
    "    pwm = GPIO.PWM(servo, 50)\n",
    "    pwm.start(8)\n",
    "    dutyCycle = angle / 18. + 3.\n",
    "    ramp_angle(pwm, start_angle, angle)\n",
    "    sleep(0.3)\n",
    "    pwm.stop()\n",
    "\n",
    "def ramp_angle(pwm, start_angle, end_angle):\n",
    "    pwm.ChangeDutyCycle(dutyCycle)\n",
    "\n",
    "if __name__ == '__main__':\n",
    "    import sys\n",
    "    servo = int(sys.argv[1])\n",
    "    GPIO.setup(servo, GPIO.OUT)\n",
    "    setServoAngle(servo, int(sys.argv[2]))\n",
    "    GPIO.cleanup()"
   ]
  }
 ],
 "metadata": {
  "kernelspec": {
   "display_name": "Python 3",
   "language": "python",
   "name": "python3"
  }
 },
 "nbformat": 4,
 "nbformat_minor": 4
}
